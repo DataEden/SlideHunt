{
 "cells": [
  {
   "cell_type": "markdown",
   "id": "041097e2",
   "metadata": {},
   "source": [
    "# 03 — Tiny Evaluation\n",
    "Run a small test set (10–20 Qs) to sanity-check correctness and refusals."
   ]
  },
  {
   "cell_type": "code",
   "execution_count": null,
   "id": "9d12ddff",
   "metadata": {},
   "outputs": [],
   "source": [
    "import os, json\n",
    "from dotenv import load_dotenv\n",
    "import chromadb\n",
    "\n",
    "\n",
    "       \n",
    "\n"
   ]
  }
 ],
 "metadata": {
  "kernelspec": {
   "display_name": "ds",
   "language": "python",
   "name": "python3"
  },
  "language_info": {
   "name": "python",
   "version": "3.12.9"
  }
 },
 "nbformat": 4,
 "nbformat_minor": 5
}
