{
 "cells": [
  {
   "cell_type": "markdown",
   "id": "a1600dd2",
   "metadata": {},
   "source": [
    "# 02 — Query Demo (Answer from Context + Citations)\n",
    "Ask a question like 'Where did we define precision vs. recall?' and get (deck, page) cites."
   ]
  },
  {
   "cell_type": "code",
   "execution_count": 1,
   "id": "9dc8aff5",
   "metadata": {},
   "outputs": [],
   "source": [
    "import os, textwrap\n",
    "from dotenv import load_dotenv\n",
    "import chromadb\n",
    "\n",
    "\n",
    "   "
   ]
  }
 ],
 "metadata": {
  "kernelspec": {
   "display_name": "ds",
   "language": "python",
   "name": "python3"
  },
  "language_info": {
   "codemirror_mode": {
    "name": "ipython",
    "version": 3
   },
   "file_extension": ".py",
   "mimetype": "text/x-python",
   "name": "python",
   "nbconvert_exporter": "python",
   "pygments_lexer": "ipython3",
   "version": "3.12.9"
  }
 },
 "nbformat": 4,
 "nbformat_minor": 5
}
