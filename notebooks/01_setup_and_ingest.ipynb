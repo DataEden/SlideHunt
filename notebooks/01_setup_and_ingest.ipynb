{
 "cells": [
  {
   "cell_type": "markdown",
   "id": "3a6bfa35",
   "metadata": {},
   "source": [
    "# 01 — Setup & Ingest (PDF → Chroma Index)\n",
    "This notebook parses PDFs (page-level), embeds chunks, and builds a Chroma index."
   ]
  },
  {
   "cell_type": "code",
   "execution_count": 2,
   "id": "959f56d5",
   "metadata": {},
   "outputs": [
    {
     "name": "stdout",
     "output_type": "stream",
     "text": [
      "Note: you may need to restart the kernel to use updated packages.\n"
     ]
    }
   ],
   "source": [
    "#%pip install pypdf\n",
    "%pip install -U -q pip wheel setuptools \"chromadb>=0.5.5\"\n",
    "#%pip install -p "
   ]
  },
  {
   "cell_type": "code",
   "execution_count": 4,
   "id": "fe41bc39",
   "metadata": {},
   "outputs": [],
   "source": [
    "import os, glob, uuid\n",
    "from dotenv import load_dotenv\n",
    "from pypdf import PdfReader\n",
    "import chromadb\n",
    "import numpy as np\n",
    "\n",
    "\n"
   ]
  }
 ],
 "metadata": {
  "kernelspec": {
   "display_name": "ds",
   "language": "python",
   "name": "python3"
  },
  "language_info": {
   "codemirror_mode": {
    "name": "ipython",
    "version": 3
   },
   "file_extension": ".py",
   "mimetype": "text/x-python",
   "name": "python",
   "nbconvert_exporter": "python",
   "pygments_lexer": "ipython3",
   "version": "3.12.9"
  }
 },
 "nbformat": 4,
 "nbformat_minor": 5
}
